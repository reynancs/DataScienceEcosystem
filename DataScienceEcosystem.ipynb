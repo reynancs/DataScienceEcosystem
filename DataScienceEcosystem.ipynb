{
 "cells": [
  {
   "cell_type": "markdown",
   "id": "cd6d78bb-27b0-4078-8c7b-4f50ca41d742",
   "metadata": {},
   "source": [
    "# Final Assignment Instructions: Create and Share you Jupyter Notebook"
   ]
  },
  {
   "cell_type": "markdown",
   "id": "6941ae7a-c8a0-4eb9-88c1-6a21f21f0140",
   "metadata": {},
   "source": [
    "#### Exercise 2 - Create markdown cell with title of the notebook"
   ]
  },
  {
   "cell_type": "markdown",
   "id": "3daa47ba-52a6-40b1-b0f1-a4116b9e559c",
   "metadata": {},
   "source": [
    "# Data Science Tools and Ecosystem"
   ]
  },
  {
   "cell_type": "markdown",
   "id": "1f13041d-c888-4074-865e-104bb7b58ac6",
   "metadata": {},
   "source": [
    "#### Exercise 3 - Create a markdown cell for an introduction"
   ]
  },
  {
   "cell_type": "markdown",
   "id": "58c5e85e-eace-4059-8ca4-8b3e2e4508bc",
   "metadata": {},
   "source": [
    "Data Science Tools and Ecosystem are summarized in the practice using Jupyter notebook."
   ]
  },
  {
   "cell_type": "markdown",
   "id": "8efed5f9-2db5-4afe-ae74-63fdd9858a73",
   "metadata": {},
   "source": [
    "#### Exercise 4 - Create a markdown cell to list data science languages"
   ]
  },
  {
   "cell_type": "markdown",
   "id": "2729f825-ef36-4b33-b830-94b56fad6b1d",
   "metadata": {},
   "source": [
    "Some of the popular languages that Data Scientists use are:\n",
    "1. Python\n",
    "2. Scala\n",
    "3. R\n",
    "4. SQL"
   ]
  },
  {
   "cell_type": "markdown",
   "id": "6d6bec50-ba28-4166-8cf7-bde40f14677a",
   "metadata": {},
   "source": [
    "#### Exercise 5 - Create a markdown cell to list data science libraries"
   ]
  },
  {
   "cell_type": "markdown",
   "id": "84c92e37-6477-4d84-976f-080985b8a89b",
   "metadata": {},
   "source": [
    "Some of the commonly used libraries used by Data Scientists include:\n",
    "1. Pandas\n",
    "2. Numpy\n",
    "3. Matplotlib\n",
    "4. Scikit-learn"
   ]
  },
  {
   "cell_type": "markdown",
   "id": "097eba85-4eec-4666-adad-4dc7980110b2",
   "metadata": {},
   "source": [
    "#### Exercise 6 - Create a markdown cell with a table of Data Science tools"
   ]
  },
  {
   "cell_type": "markdown",
   "id": "9e58a2b4-b94f-473b-9831-604300c16900",
   "metadata": {},
   "source": [
    "\n",
    "| Data Science Tools |\n",
    "| -------------|\n",
    "| Jupyter Notebook |\n",
    "| Visual Studio Code |\n",
    "| R Studio |"
   ]
  },
  {
   "cell_type": "markdown",
   "id": "b07a4038-53a1-47d2-aee8-c30297824057",
   "metadata": {},
   "source": [
    "#### Exercise 7 - Create a markdown cell introducing arithmetic expression examples"
   ]
  },
  {
   "cell_type": "markdown",
   "id": "acd67e33-bcb7-420e-9cf4-2565c77a3448",
   "metadata": {},
   "source": [
    "### Below are a few examples of evaluating arithmetic expressions in Python"
   ]
  },
  {
   "cell_type": "markdown",
   "id": "ba17e7cf-a17c-4795-abc7-3a004a79e088",
   "metadata": {},
   "source": [
    "#### Exercise 8 - Create a code cell to multiply and add numbers"
   ]
  },
  {
   "cell_type": "markdown",
   "id": "17d3da63-8d43-49aa-8841-2d5266f93f80",
   "metadata": {},
   "source": [
    "This a simple arithmetic expression to mutiply then add integers"
   ]
  },
  {
   "cell_type": "code",
   "execution_count": 66,
   "id": "0c80eeb3-f20d-4ad0-b3a3-23ebe3b9a4e0",
   "metadata": {},
   "outputs": [
    {
     "data": {
      "text/plain": [
       "17"
      ]
     },
     "execution_count": 66,
     "metadata": {},
     "output_type": "execute_result"
    }
   ],
   "source": [
    "(3*4)+5"
   ]
  },
  {
   "cell_type": "markdown",
   "id": "0a756f6a-3103-4443-9b6d-53df6b6250df",
   "metadata": {},
   "source": [
    "#### Exercise 9 - Create a code cell to convert minutes to hours"
   ]
  },
  {
   "cell_type": "markdown",
   "id": "0aacead5-8ef6-4b64-a357-19861a600a9f",
   "metadata": {},
   "source": [
    "This will convert 200 minutes to hours by diving by 60"
   ]
  },
  {
   "cell_type": "code",
   "execution_count": 70,
   "id": "7054fbb3-65d8-4968-a720-e497da84fc59",
   "metadata": {},
   "outputs": [
    {
     "data": {
      "text/plain": [
       "3.3333333333333335"
      ]
     },
     "execution_count": 70,
     "metadata": {},
     "output_type": "execute_result"
    }
   ],
   "source": [
    "200/60"
   ]
  },
  {
   "cell_type": "markdown",
   "id": "a51d20a3-709e-456d-a957-51c0069fee05",
   "metadata": {},
   "source": [
    "#### Exercise 10 - Insert a markdown cell to list Objectives"
   ]
  },
  {
   "cell_type": "markdown",
   "id": "f2860aa5-09aa-41b8-9d91-a9319706c639",
   "metadata": {},
   "source": [
    "**Objectives:**\n",
    "- Create a Jupyter Notebook;\n",
    "- Create a markdown cell to list data science languages\n",
    "- Create a markdown cell with a table of Data Science tools\n",
    "- Create a markdown cell introducing arithmetic expression examples\n",
    "- Create a code cell to convert minutes to hours"
   ]
  },
  {
   "cell_type": "markdown",
   "id": "a2177157-0f36-42af-90c2-de97a92d9083",
   "metadata": {},
   "source": [
    "#### Exercise 11 - Create a markdown cell to indicate the Author's name"
   ]
  },
  {
   "cell_type": "markdown",
   "id": "f988f8ab-4407-4fd1-a4ac-3b22b4341705",
   "metadata": {},
   "source": [
    "## Author\n",
    "Renan Cardoso dos Santos"
   ]
  },
  {
   "cell_type": "code",
   "execution_count": null,
   "id": "50045707-17a0-47fc-8087-4c5e77836633",
   "metadata": {},
   "outputs": [],
   "source": []
  }
 ],
 "metadata": {
  "kernelspec": {
   "display_name": "Python [conda env:base] *",
   "language": "python",
   "name": "conda-base-py"
  },
  "language_info": {
   "codemirror_mode": {
    "name": "ipython",
    "version": 3
   },
   "file_extension": ".py",
   "mimetype": "text/x-python",
   "name": "python",
   "nbconvert_exporter": "python",
   "pygments_lexer": "ipython3",
   "version": "3.12.7"
  }
 },
 "nbformat": 4,
 "nbformat_minor": 5
}
